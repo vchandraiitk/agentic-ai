{
  "nbformat": 4,
  "nbformat_minor": 0,
  "metadata": {
    "colab": {
      "provenance": [],
      "authorship_tag": "ABX9TyMA3rw5ZIOo+U13tas0AXc2",
      "include_colab_link": true
    },
    "kernelspec": {
      "name": "python3",
      "display_name": "Python 3"
    },
    "language_info": {
      "name": "python"
    }
  },
  "cells": [
    {
      "cell_type": "markdown",
      "metadata": {
        "id": "view-in-github",
        "colab_type": "text"
      },
      "source": [
        "<a href=\"https://colab.research.google.com/github/vchandraiitk/agentic-ai/blob/main/1_Pydentic.ipynb\" target=\"_parent\"><img src=\"https://colab.research.google.com/assets/colab-badge.svg\" alt=\"Open In Colab\"/></a>"
      ]
    },
    {
      "cell_type": "code",
      "execution_count": null,
      "metadata": {
        "id": "MQOeShmbJ0wr"
      },
      "outputs": [],
      "source": [
        "#pip install pydantic"
      ]
    },
    {
      "cell_type": "markdown",
      "source": [
        "BaseModel is a class provided by Pydantic that:\n",
        "\n",
        "Parses input data (e.g., JSON, dict)\n",
        "\n",
        "Validates fields using Python type hints\n",
        "\n",
        "Converts types when needed (e.g., string \"123\" → integer 123)\n",
        "\n",
        "Provides helpful .dict(), .json(), .copy() methods"
      ],
      "metadata": {
        "id": "d7AoFI4CQ7xf"
      }
    },
    {
      "cell_type": "code",
      "source": [
        "from pydantic import BaseModel\n",
        "\n",
        "class Person(BaseModel):\n",
        "    name: str\n",
        "    age: int\n",
        "    city: str\n",
        "\n",
        "person = Person(name=\"John Doe\", age=30, city=\"New York\")\n",
        "print(person)\n"
      ],
      "metadata": {
        "colab": {
          "base_uri": "https://localhost:8080/"
        },
        "id": "GuADZTxEMr1K",
        "outputId": "06a43f03-88ac-4536-c28b-d39e4fe0a362"
      },
      "execution_count": null,
      "outputs": [
        {
          "output_type": "stream",
          "name": "stdout",
          "text": [
            "name='John Doe' age=30 city='New York'\n"
          ]
        }
      ]
    },
    {
      "cell_type": "code",
      "source": [
        "person = Person(name=\"John Doe\", age=30, city=\"New York\")\n",
        "print(person)"
      ],
      "metadata": {
        "colab": {
          "base_uri": "https://localhost:8080/"
        },
        "id": "Ukr45VF-NCkr",
        "outputId": "fa79cc33-ea9a-4b93-90db-3bde85ad950b"
      },
      "execution_count": null,
      "outputs": [
        {
          "output_type": "stream",
          "name": "stdout",
          "text": [
            "name='John Doe' age=30 city='New York'\n"
          ]
        }
      ]
    },
    {
      "cell_type": "code",
      "source": [
        "from dataclasses import dataclass\n",
        "\n",
        "@dataclass\n",
        "class Employee():\n",
        "    name: str\n",
        "    age: int\n",
        "    city: str\n",
        "\n",
        "employee = Employee(name=\"John Doe\", age=\"aaa\", city=\"New York\")\n",
        "print(employee)\n"
      ],
      "metadata": {
        "colab": {
          "base_uri": "https://localhost:8080/"
        },
        "id": "m1TSSy-ANSbg",
        "outputId": "a54a0d48-4ece-41f5-f4be-c20d94ffd063"
      },
      "execution_count": null,
      "outputs": [
        {
          "output_type": "stream",
          "name": "stdout",
          "text": [
            "Employee(name='John Doe', age='aaa', city='New York')\n"
          ]
        }
      ]
    },
    {
      "cell_type": "markdown",
      "source": [
        "### Optional Fields"
      ],
      "metadata": {
        "id": "jbDJbXXxNyHr"
      }
    },
    {
      "cell_type": "code",
      "source": [
        "from typing import Optional\n",
        "from pydantic import BaseModel\n",
        "\n",
        "class Person(BaseModel):\n",
        "    name: str\n",
        "    age: int\n",
        "    city: str\n",
        "    salary: Optional[float] = 0.1\n",
        "\n",
        "person = Person(name=\"John Doe\", age=30, city=\"New York\")\n",
        "print(person)\n"
      ],
      "metadata": {
        "colab": {
          "base_uri": "https://localhost:8080/"
        },
        "id": "3_MAss-mNxbh",
        "outputId": "c9ba8e67-8e9a-472c-81ad-64da6ea951b8"
      },
      "execution_count": null,
      "outputs": [
        {
          "output_type": "stream",
          "name": "stdout",
          "text": [
            "name='John Doe' age=30 city='New York' salary=0.1\n"
          ]
        }
      ]
    },
    {
      "cell_type": "code",
      "source": [
        "person = Person(name=\"John Doe\", age=30, city=\"New York\", salary=4.5)\n",
        "print(person)\n"
      ],
      "metadata": {
        "colab": {
          "base_uri": "https://localhost:8080/"
        },
        "id": "flUWhE6SN8-w",
        "outputId": "bcd99c64-a36e-4dcb-e162-079e9e05ee6f"
      },
      "execution_count": null,
      "outputs": [
        {
          "output_type": "stream",
          "name": "stdout",
          "text": [
            "name='John Doe' age=30 city='New York' salary=4.5\n"
          ]
        }
      ]
    },
    {
      "cell_type": "markdown",
      "source": [
        "## List of String"
      ],
      "metadata": {
        "id": "PDuUJYZuOK8O"
      }
    },
    {
      "cell_type": "code",
      "source": [
        "class Person(BaseModel):\n",
        "    name: str\n",
        "    age: int\n",
        "    city: str\n",
        "    salary: Optional[float] = 0.1\n",
        "    depts: list[str]\n",
        "\n",
        "person = Person(name=\"John Doe\", age=30, city=\"New York\", depts=[\"CHE\", \"CSE\", \"MME\"])\n",
        "print(person)"
      ],
      "metadata": {
        "colab": {
          "base_uri": "https://localhost:8080/"
        },
        "id": "Wh05Bg1iOPQG",
        "outputId": "ecf748e9-2374-4731-95c0-83d28c8e9959"
      },
      "execution_count": null,
      "outputs": [
        {
          "output_type": "stream",
          "name": "stdout",
          "text": [
            "name='John Doe' age=30 city='New York' salary=0.1 depts=['CHE', 'CSE', 'MME']\n"
          ]
        }
      ]
    },
    {
      "cell_type": "markdown",
      "source": [
        "## Object Type"
      ],
      "metadata": {
        "id": "TwEGf_kzP7_B"
      }
    },
    {
      "cell_type": "code",
      "source": [
        "class Address(BaseModel):\n",
        "    street: str\n",
        "    city: str\n",
        "    state: str\n",
        "    zip: str"
      ],
      "metadata": {
        "id": "cCV_bG6gQd6U"
      },
      "execution_count": null,
      "outputs": []
    },
    {
      "cell_type": "code",
      "source": [
        "class Person(BaseModel):\n",
        "    name: str\n",
        "    age: int\n",
        "    city: str\n",
        "    salary: Optional[float] = 0.1\n",
        "    depts: list[str]\n",
        "    address: Address\n",
        "\n",
        "person = Person(name=\"John Doe\", age=30, city=\"New York\", depts=[\"CHE\", \"CSE\", \"MME\"], address=Address(street=\"123 Main St\", city=\"New York\", state=\"NY\", zip=\"10001\"))\n",
        "print(person)"
      ],
      "metadata": {
        "colab": {
          "base_uri": "https://localhost:8080/"
        },
        "id": "lHx9Tyw2P7MF",
        "outputId": "223abe35-228c-4bdb-941c-52157de92325"
      },
      "execution_count": null,
      "outputs": [
        {
          "output_type": "stream",
          "name": "stdout",
          "text": [
            "name='John Doe' age=30 city='New York' salary=0.1 depts=['CHE', 'CSE', 'MME'] address=Address(street='123 Main St', city='New York', state='NY', zip='10001')\n"
          ]
        }
      ]
    },
    {
      "cell_type": "markdown",
      "source": [
        "##Field"
      ],
      "metadata": {
        "id": "imSiVe8ARLTk"
      }
    },
    {
      "cell_type": "code",
      "source": [
        "from pydantic import BaseModel, Field\n",
        "\n",
        "class Person(BaseModel):\n",
        "    name: str = Field(..., min_length=3, max_length=10)\n",
        "    age: int = Field(gt=0, lt=120)\n",
        "    city: str\n",
        "    salary: int = Field(default=3000, gt=0)"
      ],
      "metadata": {
        "id": "CuVmpegjRNhf"
      },
      "execution_count": null,
      "outputs": []
    },
    {
      "cell_type": "code",
      "source": [
        "person = Person(name=\"John\", age=20, city=\"New York\")\n",
        "print(person)"
      ],
      "metadata": {
        "colab": {
          "base_uri": "https://localhost:8080/"
        },
        "id": "k5fMUA8tRV_7",
        "outputId": "440e25fa-5a89-41c1-96a9-69c9a20ed38a"
      },
      "execution_count": null,
      "outputs": [
        {
          "output_type": "stream",
          "name": "stdout",
          "text": [
            "name='John' age=20 city='New York' salary=3000\n"
          ]
        }
      ]
    }
  ]
}